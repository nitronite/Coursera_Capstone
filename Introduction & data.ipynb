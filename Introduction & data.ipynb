{
 "cells": [
  {
   "cell_type": "markdown",
   "metadata": {},
   "source": [
    "# Clustering and comparing the neighborhoods of New York and London"
   ]
  },
  {
   "cell_type": "markdown",
   "metadata": {},
   "source": [
    "## 1. Introduction"
   ]
  },
  {
   "cell_type": "markdown",
   "metadata": {},
   "source": [
    "### 1.1 Background & Problem"
   ]
  },
  {
   "cell_type": "markdown",
   "metadata": {},
   "source": [
    "Based on the [Global Financial Centres Index](https://en.wikipedia.org/wiki/Global_Financial_Centres_Index), as of March 26th 2020, New York and London are the most competitive financial centres of the world, standing at numbers 1 & 2, respectively. They are both cultural melting pots. Voters within both cities are distinctly progressive. They share a common language and, more generally, the same ideals. It therefore seems intuitively obvious that both would be similar to live in as well. Intuition such as this, however, needs to be tested experimentally. Therefore, the aim of this project is to use the clustering of different neighborhoods and boroughs in London and New York to see if the hypothesis that New York and London are similar is true. As a practical example of this, we will investigate what kinds of businesses are more common in which city, and which businesses are not commonly found in either city."
   ]
  },
  {
   "cell_type": "markdown",
   "metadata": {},
   "source": [
    "### 1.2 Interest"
   ]
  },
  {
   "cell_type": "markdown",
   "metadata": {},
   "source": [
    "The veracity of the above hypothesis will be of interest to all generally curious persons, but will be of particular interest to any persons looking to move from one of these cities to another, as in this report we shall identify similar neighborhoods within both cities. This report will also be of interest to any tourists and business people looking to find similar areas within both cities. "
   ]
  },
  {
   "cell_type": "markdown",
   "metadata": {},
   "source": [
    "## 2. Data"
   ]
  },
  {
   "cell_type": "markdown",
   "metadata": {},
   "source": [
    "This report will rely on public data from Wikipedia & Foursquare, as well as a dataset provided the organisers of the \"Applied Data Science Capstone\" course, which is provided by IBM."
   ]
  },
  {
   "cell_type": "markdown",
   "metadata": {},
   "source": [
    "### 2.1 Data sources"
   ]
  },
  {
   "cell_type": "markdown",
   "metadata": {},
   "source": [
    "In this report, London will be synonymous with the Greater London Area as found on this [Wikipedia page](https://en.wikipedia.org/wiki/List_of_areas_of_London), and the focus of this report will be the neighbourhoods that are within the London Post Code area. The data for New York city's neigborhoods & geographic coordinates is found [here](https://geo.nyu.edu/catalog/nyu_2451_34572), and is data that was provided by the organisers of this course. This dataset is originally a JSON file that specifies the name of each neighborhood, its coordinates (latitude & longitude), and its borough.  \n",
    "\n",
    "In addition, for each city, data that describe sthe venues of its neighborhoods and the categories of these venues is needed. These data will be retrieved from Foursquare, a popular source of location & venue data. In particular, the Foursquare API service will be utilised to access and download venues data."
   ]
  }
 ],
 "metadata": {
  "kernelspec": {
   "display_name": "Python 3",
   "language": "python",
   "name": "python3"
  },
  "language_info": {
   "codemirror_mode": {
    "name": "ipython",
    "version": 3
   },
   "file_extension": ".py",
   "mimetype": "text/x-python",
   "name": "python",
   "nbconvert_exporter": "python",
   "pygments_lexer": "ipython3",
   "version": "3.7.4"
  }
 },
 "nbformat": 4,
 "nbformat_minor": 2
}
